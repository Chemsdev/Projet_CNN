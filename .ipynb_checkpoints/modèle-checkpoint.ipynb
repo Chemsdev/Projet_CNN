{
 "cells": [
  {
   "cell_type": "code",
   "execution_count": 63,
   "id": "7a6a5531",
   "metadata": {},
   "outputs": [],
   "source": [
    "# Import des librairies\n",
    "import pandas as pd \n",
    "import numpy as np\n",
    "import matplotlib.pyplot as plt"
   ]
  },
  {
   "cell_type": "code",
   "execution_count": 64,
   "id": "0e8ccff9",
   "metadata": {},
   "outputs": [],
   "source": [
    "# import de la data\n",
    "x_train = pd.read_csv(\"data/train.csv\")\n",
    "x_test = pd.read_csv(\"data/test.csv\")"
   ]
  },
  {
   "cell_type": "code",
   "execution_count": 76,
   "id": "7a6f3d6a",
   "metadata": {},
   "outputs": [],
   "source": [
    "# convertion en numpy array\n",
    "x_train = np.array(x_train) \n",
    "x_test  = np.array(x_test) "
   ]
  },
  {
   "cell_type": "code",
   "execution_count": null,
   "id": "8cffeadb",
   "metadata": {},
   "outputs": [],
   "source": [
    "x_test"
   ]
  },
  {
   "cell_type": "markdown",
   "id": "31d3ef37",
   "metadata": {},
   "source": [
    "#### Afficher une image"
   ]
  },
  {
   "cell_type": "code",
   "execution_count": 78,
   "id": "bdbe6beb",
   "metadata": {},
   "outputs": [],
   "source": [
    "# Afficher une image\n",
    "def print_picture(data=x_test):\n",
    "    \n",
    "    # Sélectionnez un exemple aléatoire\n",
    "    random_index = np.random.randint(0, len(data))\n",
    "    example = data[random_index]\n",
    "\n",
    "    # Les 784 premières valeurs représentent les pixels de l'image\n",
    "    image = example[:-1].reshape(28, 28)\n",
    "\n",
    "    # Afficher l'image\n",
    "    plt.imshow(image, cmap='gray')\n",
    "    plt.show()"
   ]
  },
  {
   "cell_type": "code",
   "execution_count": 79,
   "id": "3ce04d12",
   "metadata": {},
   "outputs": [
    {
     "ename": "ValueError",
     "evalue": "cannot reshape array of size 783 into shape (28,28)",
     "output_type": "error",
     "traceback": [
      "\u001b[1;31m---------------------------------------------------------------------------\u001b[0m",
      "\u001b[1;31mValueError\u001b[0m                                Traceback (most recent call last)",
      "\u001b[1;32m~\\AppData\\Local\\Temp\\ipykernel_18960\\1685607130.py\u001b[0m in \u001b[0;36m<module>\u001b[1;34m\u001b[0m\n\u001b[1;32m----> 1\u001b[1;33m \u001b[0mprint_picture\u001b[0m\u001b[1;33m(\u001b[0m\u001b[0mdata\u001b[0m\u001b[1;33m=\u001b[0m\u001b[0mx_test\u001b[0m\u001b[1;33m)\u001b[0m\u001b[1;33m\u001b[0m\u001b[1;33m\u001b[0m\u001b[0m\n\u001b[0m",
      "\u001b[1;32m~\\AppData\\Local\\Temp\\ipykernel_18960\\3079034100.py\u001b[0m in \u001b[0;36mprint_picture\u001b[1;34m(data)\u001b[0m\n\u001b[0;32m      7\u001b[0m \u001b[1;33m\u001b[0m\u001b[0m\n\u001b[0;32m      8\u001b[0m     \u001b[1;31m# Les 784 premières valeurs représentent les pixels de l'image\u001b[0m\u001b[1;33m\u001b[0m\u001b[1;33m\u001b[0m\u001b[0m\n\u001b[1;32m----> 9\u001b[1;33m     \u001b[0mimage\u001b[0m \u001b[1;33m=\u001b[0m \u001b[0mexample\u001b[0m\u001b[1;33m[\u001b[0m\u001b[1;33m:\u001b[0m\u001b[1;33m-\u001b[0m\u001b[1;36m1\u001b[0m\u001b[1;33m]\u001b[0m\u001b[1;33m.\u001b[0m\u001b[0mreshape\u001b[0m\u001b[1;33m(\u001b[0m\u001b[1;36m28\u001b[0m\u001b[1;33m,\u001b[0m \u001b[1;36m28\u001b[0m\u001b[1;33m)\u001b[0m\u001b[1;33m\u001b[0m\u001b[1;33m\u001b[0m\u001b[0m\n\u001b[0m\u001b[0;32m     10\u001b[0m \u001b[1;33m\u001b[0m\u001b[0m\n\u001b[0;32m     11\u001b[0m     \u001b[1;31m# Afficher l'image\u001b[0m\u001b[1;33m\u001b[0m\u001b[1;33m\u001b[0m\u001b[0m\n",
      "\u001b[1;31mValueError\u001b[0m: cannot reshape array of size 783 into shape (28,28)"
     ]
    }
   ],
   "source": [
    "print_picture(data=x_test)"
   ]
  },
  {
   "cell_type": "code",
   "execution_count": null,
   "id": "c4248bc4",
   "metadata": {},
   "outputs": [],
   "source": []
  },
  {
   "cell_type": "markdown",
   "id": "81a5bf35",
   "metadata": {},
   "source": [
    "### Exemple"
   ]
  },
  {
   "cell_type": "code",
   "execution_count": 40,
   "id": "e6a4edce",
   "metadata": {},
   "outputs": [],
   "source": [
    "# Importation des bibliothèques nécessaires \n",
    "import tensorflow as tf\n",
    "from tensorflow.keras import datasets, layers, models\n",
    "import matplotlib.pyplot as plt"
   ]
  },
  {
   "cell_type": "code",
   "execution_count": 41,
   "id": "5380bdcc",
   "metadata": {},
   "outputs": [],
   "source": [
    "# chargeons le dataset MNIST qui contient des images de chiffres manuscrits\n",
    "(train_images, train_labels), (test_images, test_labels) = datasets.mnist.load_data()"
   ]
  },
  {
   "cell_type": "code",
   "execution_count": 42,
   "id": "ed45efbf",
   "metadata": {},
   "outputs": [],
   "source": [
    "# Nous normalisons les images en les divisant par 255 (valeur maximale d'un pixel) afin d'obtenir des valeurs entre 0 et 1 :\n",
    "train_images, test_images = train_images / 255.0, test_images / 255.0"
   ]
  },
  {
   "cell_type": "code",
   "execution_count": 43,
   "id": "f4227f6c",
   "metadata": {},
   "outputs": [],
   "source": [
    "# Nous définissons notre modèle CNN en ajoutant des couches. \n",
    "# Dans cet exemple, nous utilisons deux couches de convolution (Conv2D) avec une fonction \n",
    "# d'activation ReLU, suivies de couches de MaxPooling pour réduire la dimensionnalité, et enfin \n",
    "# Une couche Dense pour la classification :\n",
    "model = models.Sequential()\n",
    "model.add(layers.Conv2D(32, (3, 3), activation='relu', input_shape=(28, 28, 1)))\n",
    "model.add(layers.MaxPooling2D((2, 2)))\n",
    "model.add(layers.Conv2D(64, (3, 3), activation='relu'))\n",
    "model.add(layers.MaxPooling2D((2, 2)))\n",
    "model.add(layers.Flatten())\n",
    "model.add(layers.Dense(10, activation='softmax'))"
   ]
  },
  {
   "cell_type": "code",
   "execution_count": 44,
   "id": "6e00aade",
   "metadata": {},
   "outputs": [],
   "source": [
    "# Nous compilons notre modèle en spécifiant la fonction de perte (categorical crossentropy), \n",
    "# l'optimiseur (Adam) et la métrique d'évaluation (précision) :\n",
    "model.compile(optimizer='adam',\n",
    "              loss='sparse_categorical_crossentropy',\n",
    "              metrics=['accuracy'])"
   ]
  },
  {
   "cell_type": "code",
   "execution_count": 45,
   "id": "e2d8dad2",
   "metadata": {},
   "outputs": [
    {
     "name": "stdout",
     "output_type": "stream",
     "text": [
      "Epoch 1/5\n",
      "1875/1875 [==============================] - 24s 13ms/step - loss: 0.1599 - accuracy: 0.9524 - val_loss: 0.0562 - val_accuracy: 0.9810\n",
      "Epoch 2/5\n",
      "1875/1875 [==============================] - 23s 12ms/step - loss: 0.0534 - accuracy: 0.9836 - val_loss: 0.0397 - val_accuracy: 0.9863\n",
      "Epoch 3/5\n",
      "1875/1875 [==============================] - 25s 13ms/step - loss: 0.0398 - accuracy: 0.9879 - val_loss: 0.0356 - val_accuracy: 0.9880\n",
      "Epoch 4/5\n",
      "1875/1875 [==============================] - 23s 12ms/step - loss: 0.0293 - accuracy: 0.9908 - val_loss: 0.0305 - val_accuracy: 0.9899\n",
      "Epoch 5/5\n",
      "1875/1875 [==============================] - 24s 13ms/step - loss: 0.0235 - accuracy: 0.9924 - val_loss: 0.0337 - val_accuracy: 0.9893\n"
     ]
    }
   ],
   "source": [
    "# Nous entraînons notre modèle avec les données d'entraînement :\n",
    "history = model.fit(train_images, train_labels, epochs=5,\n",
    "                    validation_data=(test_images, test_labels))"
   ]
  },
  {
   "cell_type": "code",
   "execution_count": 46,
   "id": "5502cb80",
   "metadata": {},
   "outputs": [
    {
     "name": "stdout",
     "output_type": "stream",
     "text": [
      "313/313 - 2s - loss: 0.0337 - accuracy: 0.9893 - 2s/epoch - 5ms/step\n",
      "Accuracy: 0.989300012588501\n"
     ]
    }
   ],
   "source": [
    "# Nous évaluons la précision de notre modèle sur les données de test :\n",
    "test_loss, test_acc = model.evaluate(test_images, test_labels, verbose=2)\n",
    "print(\"Accuracy:\", test_acc)"
   ]
  },
  {
   "cell_type": "code",
   "execution_count": 47,
   "id": "14f3f71b",
   "metadata": {},
   "outputs": [
    {
     "name": "stdout",
     "output_type": "stream",
     "text": [
      "1/1 [==============================] - 0s 144ms/step\n",
      "[[2.25151064e-10 9.77134831e-11 3.45662926e-07 3.15449967e-07\n",
      "  1.33633534e-12 1.94421302e-11 5.42856426e-18 9.99999166e-01\n",
      "  1.31035224e-10 1.26574392e-07]\n",
      " [1.19289382e-07 6.72940441e-05 9.99929190e-01 4.84577101e-10\n",
      "  1.98376024e-10 1.93744031e-14 3.20469576e-06 1.13134285e-11\n",
      "  1.52264690e-07 1.12699086e-10]\n",
      " [3.81195377e-08 9.99919534e-01 1.35048413e-06 9.22955667e-09\n",
      "  4.22414523e-05 9.84429221e-07 1.81156054e-07 2.67636333e-05\n",
      "  8.70069562e-06 8.86892622e-08]\n",
      " [9.99995947e-01 3.03262840e-12 4.13913739e-07 1.70620823e-10\n",
      "  6.60843047e-10 2.12962643e-08 3.38773634e-06 3.47447804e-09\n",
      "  7.01260703e-08 1.31010765e-07]\n",
      " [1.67687209e-09 2.48626719e-09 5.98118166e-10 2.39521764e-10\n",
      "  9.99989867e-01 5.45185685e-12 2.36356795e-10 8.34856806e-09\n",
      "  1.43122829e-08 1.01739170e-05]]\n"
     ]
    }
   ],
   "source": [
    "# Enfin, nous utilisons notre modèle pour prédire des chiffres à partir de nouvelles images :\n",
    "predictions = model.predict(test_images[:5])\n",
    "print(predictions)"
   ]
  }
 ],
 "metadata": {
  "kernelspec": {
   "display_name": "Python 3 (ipykernel)",
   "language": "python",
   "name": "python3"
  },
  "language_info": {
   "codemirror_mode": {
    "name": "ipython",
    "version": 3
   },
   "file_extension": ".py",
   "mimetype": "text/x-python",
   "name": "python",
   "nbconvert_exporter": "python",
   "pygments_lexer": "ipython3",
   "version": "3.9.13"
  }
 },
 "nbformat": 4,
 "nbformat_minor": 5
}
