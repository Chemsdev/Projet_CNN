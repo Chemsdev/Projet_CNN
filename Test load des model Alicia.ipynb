{
 "cells": [
  {
   "cell_type": "code",
   "execution_count": 1,
   "id": "e95537d2",
   "metadata": {},
   "outputs": [
    {
     "name": "stderr",
     "output_type": "stream",
     "text": [
      "2023-04-28 16:31:02.846339: I tensorflow/tsl/cuda/cudart_stub.cc:28] Could not find cuda drivers on your machine, GPU will not be used.\n",
      "2023-04-28 16:31:03.079793: I tensorflow/tsl/cuda/cudart_stub.cc:28] Could not find cuda drivers on your machine, GPU will not be used.\n",
      "2023-04-28 16:31:03.085859: I tensorflow/core/platform/cpu_feature_guard.cc:182] This TensorFlow binary is optimized to use available CPU instructions in performance-critical operations.\n",
      "To enable the following instructions: AVX2 FMA, in other operations, rebuild TensorFlow with the appropriate compiler flags.\n",
      "2023-04-28 16:31:05.688091: W tensorflow/compiler/tf2tensorrt/utils/py_utils.cc:38] TF-TRT Warning: Could not find TensorRT\n"
     ]
    }
   ],
   "source": [
    "import pandas as pd\n",
    "import numpy as np\n",
    "import pickle\n",
    "import matplotlib.pyplot as plt\n",
    "import tensorflow as tf\n",
    "from tensorflow import keras"
   ]
  },
  {
   "cell_type": "markdown",
   "id": "a3a62a8d",
   "metadata": {},
   "source": [
    "# Test etapes 1:"
   ]
  },
  {
   "cell_type": "markdown",
   "id": "f3079074",
   "metadata": {},
   "source": [
    "## pickle"
   ]
  },
  {
   "cell_type": "code",
   "execution_count": 2,
   "id": "1d7ba7fa",
   "metadata": {},
   "outputs": [],
   "source": [
    "test = np.array(pd.read_csv('test.csv'))"
   ]
  },
  {
   "cell_type": "code",
   "execution_count": 3,
   "id": "1e47f5d3",
   "metadata": {},
   "outputs": [],
   "source": [
    "test1= test[2000].reshape((-1,28,28,1))/255.0"
   ]
  },
  {
   "cell_type": "code",
   "execution_count": 4,
   "id": "9c1ff5f1",
   "metadata": {},
   "outputs": [
    {
     "name": "stdout",
     "output_type": "stream",
     "text": [
      "1/1 [==============================] - 0s 317ms/step\n"
     ]
    }
   ],
   "source": [
    "pickled_model = pickle.load(open('baseline2.pkl', 'rb'))\n",
    "prediction = pickled_model.predict(test1)"
   ]
  },
  {
   "cell_type": "code",
   "execution_count": 5,
   "id": "b5f28193",
   "metadata": {},
   "outputs": [
    {
     "data": {
      "text/plain": [
       "array([8])"
      ]
     },
     "execution_count": 5,
     "metadata": {},
     "output_type": "execute_result"
    }
   ],
   "source": [
    "alors = np.argmax(prediction, axis=1)\n",
    "alors"
   ]
  },
  {
   "cell_type": "code",
   "execution_count": 6,
   "id": "2916ea8a",
   "metadata": {},
   "outputs": [
    {
     "data": {
      "image/png": "[encoded data removed]",
      "text/plain": [
       "<Figure size 640x480 with 1 Axes>"
      ]
     },
     "metadata": {},
     "output_type": "display_data"
    }
   ],
   "source": [
    "img_test= test[2000]\n",
    "img_test2 = img_test.reshape((28,28))\n",
    "plt.imshow(img_test2 , cmap='gray')\n",
    "plt.show()\n"
   ]
  },
  {
   "cell_type": "markdown",
   "id": "123e3dbd",
   "metadata": {},
   "source": [
    "## h5"
   ]
  },
  {
   "cell_type": "code",
   "execution_count": 7,
   "id": "dd8573e2",
   "metadata": {},
   "outputs": [],
   "source": [
    "test2= test[1002].reshape((-1,28,28,1))/255.0"
   ]
  },
  {
   "cell_type": "code",
   "execution_count": 8,
   "id": "bc675002",
   "metadata": {},
   "outputs": [],
   "source": [
    "# Charger le modèle h5\n",
    "model = tf.keras.models.load_model(\"my_model2.h5\")"
   ]
  },
  {
   "cell_type": "code",
   "execution_count": 9,
   "id": "361c8ed7",
   "metadata": {},
   "outputs": [
    {
     "name": "stdout",
     "output_type": "stream",
     "text": [
      "1/1 [==============================] - 0s 142ms/step\n"
     ]
    },
    {
     "data": {
      "text/plain": [
       "array([0])"
      ]
     },
     "execution_count": 9,
     "metadata": {},
     "output_type": "execute_result"
    }
   ],
   "source": [
    " np.argmax(model.predict(test2), axis=1) "
   ]
  },
  {
   "cell_type": "code",
   "execution_count": 10,
   "id": "37dfcde0",
   "metadata": {},
   "outputs": [
    {
     "data": {
      "image/png": "[encoded data removed]",
      "text/plain": [
       "<Figure size 640x480 with 1 Axes>"
      ]
     },
     "metadata": {},
     "output_type": "display_data"
    }
   ],
   "source": [
    "img_test_h5= test[1002]\n",
    "img_test_h5 = img_test_h5.reshape((28,28))\n",
    "plt.imshow(img_test_h5, cmap='gray')\n",
    "plt.show()"
   ]
  },
  {
   "cell_type": "code",
   "execution_count": null,
   "id": "ff473774",
   "metadata": {},
   "outputs": [],
   "source": []
  }
 ],
 "metadata": {
  "kernelspec": {
   "display_name": "Python 3 (ipykernel)",
   "language": "python",
   "name": "python3"
  },
  "language_info": {
   "codemirror_mode": {
    "name": "ipython",
    "version": 3
   },
   "file_extension": ".py",
   "mimetype": "text/x-python",
   "name": "python",
   "nbconvert_exporter": "python",
   "pygments_lexer": "ipython3",
   "version": "3.8.12"
  },
  "toc": {
   "base_numbering": 1,
   "nav_menu": {},
   "number_sections": true,
   "sideBar": true,
   "skip_h1_title": false,
   "title_cell": "Table of Contents",
   "title_sidebar": "Contents",
   "toc_cell": false,
   "toc_position": {},
   "toc_section_display": true,
   "toc_window_display": false
  }
 },
 "nbformat": 4,
 "nbformat_minor": 5
}
